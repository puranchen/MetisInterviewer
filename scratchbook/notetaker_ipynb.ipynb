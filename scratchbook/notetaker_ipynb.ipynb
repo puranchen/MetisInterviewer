{
 "cells": [
  {
   "cell_type": "code",
   "execution_count": 2,
   "metadata": {},
   "outputs": [],
   "source": [
    "import sys\n",
    "import os\n",
    "sys.path.append(os.path.abspath('..'))"
   ]
  },
  {
   "cell_type": "code",
   "execution_count": 3,
   "metadata": {},
   "outputs": [],
   "source": [
    "import pickle\n",
    "import random\n",
    "from core.utils import NoteTaker, ChatChain\n",
    "from langchain.memory import ChatMessageHistory\n",
    "from archetypes import SymptomSigns\n",
    "file = random.choice(os.listdir(\"../data/autogen_consultations\"))\n",
    "with open(f\"../data/autogen_consultations/{file}\", 'rb') as f:\n",
    "    reply_pairs = pickle.load(f)\n",
    "\n",
    "note_taker_prompt = open('../agent/prompts/symptom_note_taker_prompt.txt', 'r').read()\n",
    "note_taker_agent = ChatChain(note_taker_prompt, structured_output=True, schema=SymptomSigns).create()"
   ]
  },
  {
   "cell_type": "code",
   "execution_count": 4,
   "metadata": {},
   "outputs": [
    {
     "name": "stdout",
     "output_type": "stream",
     "text": [
      "Metis: Hello John! I'm Metis, an AI doctor developed by Platform24. How can I assist you today?\n",
      "Patient: I have a sore throat.\n",
      "\n",
      "symptom_signs=[SymptomSign(name='sore throat', structured_anatomical_location='throat', negated=False)]\n",
      "=====\n",
      "Metis: I'm sorry to hear that, John. When did you first notice your sore throat?\n",
      "Patient: Started feeling it yesterday.\n",
      "\n",
      "symptom_signs=[SymptomSign(name='sore throat', structured_anatomical_location='throat', negated=False)]\n",
      "=====\n",
      "Metis: I see. Can you describe your sore throat to me? Is it a scratchy feeling, painful, or does it feel dry?\n",
      "Patient: It's scratchy and hurts when I swallow.\n",
      "\n",
      "symptom_signs=[SymptomSign(name='scratchy feeling', structured_anatomical_location='throat', negated=False), SymptomSign(name='painful swallowing', structured_anatomical_location='throat', negated=False)]\n",
      "=====\n",
      "Metis: I'm sorry to hear that, John. Do you have any other symptoms along with your sore throat, such as a fever, cough, or runny nose?\n",
      "Patient: Yeah, I have a cough and my nose is a bit stuffy too.\n",
      "\n",
      "symptom_signs=[SymptomSign(name='sore throat', structured_anatomical_location='throat', negated=False), SymptomSign(name='cough', structured_anatomical_location='chest', negated=False), SymptomSign(name='stuffy nose', structured_anatomical_location='nose', negated=False)]\n",
      "=====\n",
      "Metis: Thank you for sharing that, John. How would you rate your pain on a scale from 1 to 10, with 1 being mild and 10 being severe?\n",
      "Patient: I would say it's about a 6.\n",
      "\n",
      "symptom_signs=[SymptomSign(name='pain', structured_anatomical_location='general', negated=False)]\n",
      "=====\n",
      "Metis: Thank you for letting me know, John. Have you tried any home remedies or over-the-counter medications for your sore throat and cough?\n",
      "Patient: No, I haven't tried anything yet.\n",
      "\n",
      "symptom_signs=[SymptomSign(name='sore throat', structured_anatomical_location='throat', negated=False), SymptomSign(name='cough', structured_anatomical_location='respiratory system', negated=False)]\n",
      "=====\n",
      "Metis: I understand, John. It's good to know. Based on your symptoms, I recommend you seek medical advice from a healthcare provider. It's important to get a proper evaluation to determine the best course of treatment. Is there anything else you would like to ask or share before we conclude our consultation?\n",
      "Patient: No, that's all. Thank you for your help.\n",
      "\n",
      "symptom_signs=[SymptomSign(name='Chest pain', structured_anatomical_location='Chest', negated=False), SymptomSign(name='Shortness of breath', structured_anatomical_location='Respiratory system', negated=False)]\n",
      "=====\n"
     ]
    }
   ],
   "source": [
    "for pair in reply_pairs:\n",
    "    metis, patient = pair\n",
    "    print(\"Metis:\", metis)\n",
    "    print(\"Patient:\", patient)\n",
    "    print(\"\")\n",
    "\n",
    "    notetaker_chat_history = ChatMessageHistory()\n",
    "    notetaker_chat_history.add_ai_message(metis)\n",
    "    notetaker_chat_history.add_user_message(patient)\n",
    "    notetaker_response = note_taker_agent.invoke({'chat_history': notetaker_chat_history.messages})\n",
    "\n",
    "    print(notetaker_response)\n",
    "    print(\"=====\")"
   ]
  },
  {
   "cell_type": "code",
   "execution_count": null,
   "metadata": {},
   "outputs": [],
   "source": []
  }
 ],
 "metadata": {
  "kernelspec": {
   "display_name": "venv",
   "language": "python",
   "name": "python3"
  },
  "language_info": {
   "codemirror_mode": {
    "name": "ipython",
    "version": 3
   },
   "file_extension": ".py",
   "mimetype": "text/x-python",
   "name": "python",
   "nbconvert_exporter": "python",
   "pygments_lexer": "ipython3",
   "version": "3.11.7"
  }
 },
 "nbformat": 4,
 "nbformat_minor": 2
}
